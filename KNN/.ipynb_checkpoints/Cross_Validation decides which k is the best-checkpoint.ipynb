{
 "cells": [
  {
   "cell_type": "code",
   "execution_count": 13,
   "metadata": {},
   "outputs": [],
   "source": [
    "import numpy as np\n",
    "from sklearn import datasets\n",
    "from sklearn.neighbors import KNeighborsClassifier as KNN\n",
    "from sklearn.model_selection import KFold"
   ]
  },
  {
   "cell_type": "markdown",
   "metadata": {},
   "source": [
    "### Initialise iris datasets"
   ]
  },
  {
   "cell_type": "code",
   "execution_count": 26,
   "metadata": {},
   "outputs": [
    {
     "name": "stdout",
     "output_type": "stream",
     "text": [
      "(150, 4) (150,)\n"
     ]
    }
   ],
   "source": [
    "iris = datasets.load_iris()\n",
    "X = iris.data\n",
    "y = iris.target\n",
    "print(X.shape,y.shape)"
   ]
  },
  {
   "cell_type": "markdown",
   "metadata": {},
   "source": [
    "### To try every possible K from 1 to 15"
   ]
  },
  {
   "cell_type": "code",
   "execution_count": 27,
   "metadata": {},
   "outputs": [
    {
     "name": "stdout",
     "output_type": "stream",
     "text": [
      "[1, 3, 5, 7, 9, 11, 13, 15]\n"
     ]
    }
   ],
   "source": [
    "ks = [x for x in range(1,17,2)]\n",
    "print(ks)"
   ]
  },
  {
   "cell_type": "markdown",
   "metadata": {},
   "source": [
    "### Realise KFold k = 5\n",
    "\n",
    "#### So \n",
    "\n",
    "<table border=“1” align=\"left\">\n",
    "    <tr>\n",
    "        <th>Training Part</th>\n",
    "        <td>80%</td>\n",
    "    </tr>\n",
    "    <tr>\n",
    "        <th>Validation Part</th>\n",
    "        <td>20%</td>\n",
    "    </tr>\n",
    "</table>"
   ]
  },
  {
   "cell_type": "code",
   "execution_count": 28,
   "metadata": {},
   "outputs": [],
   "source": [
    "kf = KFold(n_splits = 5,random_state=2001,shuffle=True) ### shuffle data in order to yield values randomly to avoid overfit\n",
    "\n"
   ]
  },
  {
   "cell_type": "markdown",
   "metadata": {},
   "source": [
    "### Which is the best K?\n",
    "\n",
    "### Method 1 Calculate one by one using KFold"
   ]
  },
  {
   "cell_type": "code",
   "execution_count": 29,
   "metadata": {
    "scrolled": true
   },
   "outputs": [
    {
     "name": "stdout",
     "output_type": "stream",
     "text": [
      "current best score is: 0.96 best k: 1\n",
      "current best score is: 0.96 best k: 1\n",
      "current best score is: 0.97 best k: 5\n",
      "current best score is: 0.98 best k: 7\n",
      "current best score is: 0.98 best k: 7\n",
      "current best score is: 0.98 best k: 7\n",
      "current best score is: 0.98 best k: 7\n",
      "current best score is: 0.98 best k: 7\n",
      "After cross validation, the final best k is: 7\n"
     ]
    }
   ],
   "source": [
    "best_k = ks[0]\n",
    "best_score = 0\n",
    "\n",
    "for k in ks:\n",
    "    cur_score = 0\n",
    "    for train_index,valid_index in kf.split(X): ### divise training data with KFold created\n",
    "        clf = KNN(n_neighbors=k)\n",
    "        clf.fit(X[train_index],y[train_index])\n",
    "        cur_score = cur_score + clf.score(X[valid_index],y[valid_index])\n",
    "    average_score = cur_score/5 # n_splits in KFold\n",
    "    if average_score > best_score:\n",
    "        best_k = k\n",
    "        best_score = average_score\n",
    "    print(\"current best score is: %.2f\"%best_score,\"best k: %d\"%best_k)\n",
    "    \n",
    "print(\"After cross validation, the final best k is: %d\"%best_k)"
   ]
  },
  {
   "cell_type": "markdown",
   "metadata": {},
   "source": [
    "### Method 2 Using GridSearchCV in Sklearn"
   ]
  },
  {
   "cell_type": "code",
   "execution_count": 32,
   "metadata": {},
   "outputs": [
    {
     "name": "stdout",
     "output_type": "stream",
     "text": [
      "best score is: 0.98  best param:  {'n_neighbors': 7}\n"
     ]
    }
   ],
   "source": [
    "### Which k will be tested? in Dictionary\n",
    "from sklearn.model_selection import GridSearchCV\n",
    "\n",
    "parameters = {\"n_neighbors\":[x for x in range(1,20,2)]}\n",
    "knn = KNN()\n",
    "\n",
    "clf = GridSearchCV(knn,parameters,cv=5)# n_splits = 5\n",
    "clf.fit(X,y)\n",
    "\n",
    "print(\"best score is: %.2f\"%clf.best_score_,\" best param: \",clf.best_params_)"
   ]
  },
  {
   "cell_type": "code",
   "execution_count": null,
   "metadata": {},
   "outputs": [],
   "source": []
  }
 ],
 "metadata": {
  "kernelspec": {
   "display_name": "Python 3",
   "language": "python",
   "name": "python3"
  },
  "language_info": {
   "codemirror_mode": {
    "name": "ipython",
    "version": 3
   },
   "file_extension": ".py",
   "mimetype": "text/x-python",
   "name": "python",
   "nbconvert_exporter": "python",
   "pygments_lexer": "ipython3",
   "version": "3.7.3"
  }
 },
 "nbformat": 4,
 "nbformat_minor": 2
}
