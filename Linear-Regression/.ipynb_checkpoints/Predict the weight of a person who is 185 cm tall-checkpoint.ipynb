{
 "cells": [
  {
   "cell_type": "code",
   "execution_count": 2,
   "metadata": {},
   "outputs": [],
   "source": [
    "import numpy as np\n",
    "import matplotlib.pyplot as plt"
   ]
  },
  {
   "cell_type": "markdown",
   "metadata": {},
   "source": [
    "### Initialisation of height data and weight on average\n",
    "\n",
    "### So What is the weight of a person who is 185 cm tall?\n",
    "\n",
    "<table border=\"1\">\n",
    "<tr>\n",
    "    <th>height</th>\n",
    "    <td>152</td>\n",
    "    <td>156</td>\n",
    "    <td>160</td>\n",
    "    <td>164</td>\n",
    "    <td>168</td>\n",
    "    <td>172</td>\n",
    "    <td>176</td>\n",
    "    <td>180</td>\n",
    "    <td>184</td>\n",
    "    <td>188</td>\n",
    "    <td>185</td>\n",
    "</tr>\n",
    "<tr>\n",
    "    <th>weight</th>\n",
    "    <td>51</td>\n",
    "    <td>53</td>\n",
    "    <td>54</td>\n",
    "    <td>55</td>\n",
    "    <td>57</td>\n",
    "    <td>60</td>\n",
    "    <td>62</td>\n",
    "    <td>65</td>\n",
    "    <td>69</td>\n",
    "    <td>72</td>\n",
    "    <td>?</td>\n",
    "</tr>\n",
    "</table>\n"
   ]
  },
  {
   "cell_type": "code",
   "execution_count": 5,
   "metadata": {},
   "outputs": [
    {
     "name": "stdout",
     "output_type": "stream",
     "text": [
      "(10, 2)\n"
     ]
    }
   ],
   "source": [
    "height = [152,156,160,164,168,172,176,180,184,188]\n",
    "weight = [51,53,54,55,57,60,62,65,69,72]\n",
    "data = [[height[i],weight[i]] for i in range(len(height))]\n",
    "data = np.array(data)\n",
    "print(data.shape)"
   ]
  },
  {
   "cell_type": "markdown",
   "metadata": {},
   "source": [
    "### data visualisation"
   ]
  },
  {
   "cell_type": "code",
   "execution_count": 10,
   "metadata": {
    "scrolled": false
   },
   "outputs": [
    {
     "data": {
      "image/png": "[encoded data removed]",
      "text/plain": [
       "<Figure size 432x288 with 1 Axes>"
      ]
     },
     "metadata": {
      "needs_background": "light"
     },
     "output_type": "display_data"
    },
    {
     "name": "stdout",
     "output_type": "stream",
     "text": [
      "So there exists a linear relation between height and weight according to the schema\n",
      "We could use Linear Regression\n"
     ]
    }
   ],
   "source": [
    "plt.scatter(height,weight,color='blue')\n",
    "plt.xlabel('height(cm)')\n",
    "plt.ylabel('weight(kg)')\n",
    "plt.show()\n",
    "\n",
    "print(\"So there exists a linear relation between height and weight according to the schema\")\n",
    "print(\"We could use Linear Regression\")"
   ]
  },
  {
   "cell_type": "code",
   "execution_count": 15,
   "metadata": {
    "scrolled": true
   },
   "outputs": [
    {
     "name": "stdout",
     "output_type": "stream",
     "text": [
      "k :  [0.57575758]\n",
      "Standard weight for person with 185 is 68.44\n"
     ]
    },
    {
     "data": {
      "image/png": "[encoded data removed]",
      "text/plain": [
       "<Figure size 432x288 with 1 Axes>"
      ]
     },
     "metadata": {
      "needs_background": "light"
     },
     "output_type": "display_data"
    }
   ],
   "source": [
    "from sklearn import datasets,linear_model\n",
    "\n",
    "# TODO 1 Create a linear model\n",
    "reg = linear_model.LinearRegression()\n",
    "\n",
    "# TODO 2 Train data\n",
    "x,y = data[:,0].reshape(-1,1),data[:,1]\n",
    "regr = reg.fit(x,y)\n",
    "print(\"k : \",regr.coef_)\n",
    "\n",
    "# TODO 3 So what is the possible weight porposed by this system who is 185 cm tall.\n",
    "print(\"Standard weight for person with 185 is %.2f\"% regr.predict([[185]]))\n",
    "\n",
    "# TODO 4 show the line generated by training\n",
    "plt.plot(x,regr.predict(x),color='red')\n",
    "plt.xlabel(\"height (cm)\")\n",
    "plt.ylabel(\"weight (kg)\")\n",
    "plt.show()\n",
    "\n"
   ]
  },
  {
   "cell_type": "code",
   "execution_count": null,
   "metadata": {},
   "outputs": [],
   "source": []
  }
 ],
 "metadata": {
  "kernelspec": {
   "display_name": "Python 3",
   "language": "python",
   "name": "python3"
  },
  "language_info": {
   "codemirror_mode": {
    "name": "ipython",
    "version": 3
   },
   "file_extension": ".py",
   "mimetype": "text/x-python",
   "name": "python",
   "nbconvert_exporter": "python",
   "pygments_lexer": "ipython3",
   "version": "3.7.3"
  }
 },
 "nbformat": 4,
 "nbformat_minor": 2
}
